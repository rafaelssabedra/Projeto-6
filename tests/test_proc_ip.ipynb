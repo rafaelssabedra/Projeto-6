{
 "cells": [
  {
   "cell_type": "markdown",
   "id": "841c6d51-c367-43d0-990b-9a02da9732bb",
   "metadata": {},
   "source": [
    "# Módulo proc\n",
    "\n",
    "A página onde será testado é \n",
    "\n",
    "[Pagina de teste](http://pythonscraping.com/pages/page1.html)"
   ]
  },
  {
   "cell_type": "markdown",
   "id": "699344e8-1d57-41cc-bbe1-24b35d16b929",
   "metadata": {},
   "source": [
    "# Função leitor_web(endereco:str) -> str\n"
   ]
  },
  {
   "cell_type": "code",
   "execution_count": 1,
   "id": "7160641e-f621-4dd2-9b8c-0af39e09a6c2",
   "metadata": {},
   "outputs": [],
   "source": [
    "# função leitor_web\n",
    "\n",
    "import requests\n",
    "def leitor_web(endereco_web: str) -> str:\n",
    "    pagina = requests.get(endereco_web)\n",
    "    return pagina.text\n"
   ]
  },
  {
   "cell_type": "code",
   "execution_count": 21,
   "id": "acf22da0-09a5-4ee1-afa5-efd5bbe5a56d",
   "metadata": {},
   "outputs": [
    {
     "name": "stdout",
     "output_type": "stream",
     "text": [
      "<html>\n",
      "<head>\n",
      "<title>A Useful Page</title>\n",
      "</head>\n",
      "<body>\n",
      "<h1>An Interesting Title</h1>\n",
      "<div>\n",
      "Lorem ipsum dolor sit amet, consectetur adipisicing elit, sed do eiusmod tempor incididunt ut labore et dolore magna aliqua. Ut enim ad minim veniam, quis nostrud exercitation ullamco laboris nisi ut aliquip ex ea commodo consequat. Duis aute irure dolor in reprehenderit in voluptate velit esse cillum dolore eu fugiat nulla pariatur. Excepteur sint occaecat cupidatat non proident, sunt in culpa qui officia deserunt mollit anim id est laborum.\n",
      "</div>\n",
      "</body>\n",
      "</html>\n",
      "\n"
     ]
    }
   ],
   "source": [
    "pagina1 = leitor_web(\"http://pythonscraping.com/pages/page1.html\")\n",
    "\n",
    "print(pagina1)"
   ]
  },
  {
   "cell_type": "markdown",
   "id": "61bd4646-4598-4003-9083-d53d66d4e101",
   "metadata": {},
   "source": [
    "# Função extractor(pagina_web: str, tag: str) ->str:"
   ]
  },
  {
   "cell_type": "code",
   "execution_count": 22,
   "id": "53f1d495-253a-435e-94db-165cd0e77e2a",
   "metadata": {},
   "outputs": [],
   "source": [
    "# Função extractor(pagina_web: str, tag: str) ->str:\n",
    "\n",
    "from bs4 import BeautifulSoup\n",
    "def extractor(pagina_web: str, tag: str) -> str:\n",
    "    pass"
   ]
  },
  {
   "cell_type": "code",
   "execution_count": 23,
   "id": "53315a31-b74e-44c7-b89b-40891444bfb0",
   "metadata": {},
   "outputs": [],
   "source": [
    "soup = BeautifulSoup(pagina1, 'html.parser')"
   ]
  },
  {
   "cell_type": "code",
   "execution_count": 24,
   "id": "9dcb5b6f-9869-4f7d-9e4e-f87e3f035d22",
   "metadata": {},
   "outputs": [
    {
     "name": "stdout",
     "output_type": "stream",
     "text": [
      "<title>A Useful Page</title>\n"
     ]
    }
   ],
   "source": [
    "print(soup.title)"
   ]
  },
  {
   "cell_type": "code",
   "execution_count": 8,
   "id": "93e234d7-234d-4d1f-b0d4-93688bec9c06",
   "metadata": {},
   "outputs": [
    {
     "name": "stdout",
     "output_type": "stream",
     "text": [
      "<body>\n",
      "<h1>An Interesting Title</h1>\n",
      "<div>\n",
      "Lorem ipsum dolor sit amet, consectetur adipisicing elit, sed do eiusmod tempor incididunt ut labore et dolore magna aliqua. Ut enim ad minim veniam, quis nostrud exercitation ullamco laboris nisi ut aliquip ex ea commodo consequat. Duis aute irure dolor in reprehenderit in voluptate velit esse cillum dolore eu fugiat nulla pariatur. Excepteur sint occaecat cupidatat non proident, sunt in culpa qui officia deserunt mollit anim id est laborum.\n",
      "</div>\n",
      "</body>\n"
     ]
    }
   ],
   "source": [
    "print(soup.body)"
   ]
  },
  {
   "cell_type": "code",
   "execution_count": 25,
   "id": "5895862e-b2ee-4a8a-acc0-ef16c79599c5",
   "metadata": {},
   "outputs": [
    {
     "name": "stdout",
     "output_type": "stream",
     "text": [
      "<h1>An Interesting Title</h1>\n"
     ]
    }
   ],
   "source": [
    "print(soup.h1)"
   ]
  },
  {
   "cell_type": "code",
   "execution_count": 35,
   "id": "e54b7307-d942-4ca0-8895-93bcea7a90f2",
   "metadata": {},
   "outputs": [],
   "source": [
    "from bs4 import BeautifulSoup\n",
    "def extractor(pagina_web: str, tag: str) -> BeautifulSoup:\n",
    "    soup = BeautifulSoap(pagina1_web, 'html.parser')\n",
    "    return soup.find(tag)"
   ]
  },
  {
   "cell_type": "code",
   "execution_count": 37,
   "id": "03f4610b-5308-41ba-8d23-f95f84a8843b",
   "metadata": {},
   "outputs": [
    {
     "ename": "NameError",
     "evalue": "name 'extrator' is not defined",
     "output_type": "error",
     "traceback": [
      "\u001b[1;31m---------------------------------------------------------------------------\u001b[0m",
      "\u001b[1;31mNameError\u001b[0m                                 Traceback (most recent call last)",
      "Cell \u001b[1;32mIn[37], line 1\u001b[0m\n\u001b[1;32m----> 1\u001b[0m a \u001b[38;5;241m=\u001b[39m \u001b[43mextrator\u001b[49m(pagina1, \u001b[38;5;124m\"\u001b[39m\u001b[38;5;124mhtml\u001b[39m\u001b[38;5;124m\"\u001b[39m)\n\u001b[0;32m      2\u001b[0m \u001b[38;5;28mprint\u001b[39m(a)\n",
      "\u001b[1;31mNameError\u001b[0m: name 'extrator' is not defined"
     ]
    }
   ],
   "source": [
    "a = extrator(pagina1, \"html\")\n",
    "print(a)"
   ]
  },
  {
   "cell_type": "code",
   "execution_count": 31,
   "id": "21efca64-f69c-4d08-92f5-cf14519ec08e",
   "metadata": {},
   "outputs": [
    {
     "name": "stdout",
     "output_type": "stream",
     "text": [
      "<h1>An Interesting Title</h1>\n"
     ]
    }
   ],
   "source": [
    "print(soup.h1)"
   ]
  },
  {
   "cell_type": "code",
   "execution_count": null,
   "id": "3abe8458-0ae1-4739-94f1-88870ab44140",
   "metadata": {},
   "outputs": [],
   "source": []
  },
  {
   "cell_type": "code",
   "execution_count": 34,
   "id": "8366c320-9974-4adb-a27d-501b05aff29c",
   "metadata": {},
   "outputs": [
    {
     "ename": "NameError",
     "evalue": "name 'extrator' is not defined",
     "output_type": "error",
     "traceback": [
      "\u001b[1;31m---------------------------------------------------------------------------\u001b[0m",
      "\u001b[1;31mNameError\u001b[0m                                 Traceback (most recent call last)",
      "Cell \u001b[1;32mIn[34], line 1\u001b[0m\n\u001b[1;32m----> 1\u001b[0m a \u001b[38;5;241m=\u001b[39m \u001b[43mextrator\u001b[49m(pagina1, \u001b[38;5;124m\"\u001b[39m\u001b[38;5;124mhtml\u001b[39m\u001b[38;5;124m\"\u001b[39m)\n",
      "\u001b[1;31mNameError\u001b[0m: name 'extrator' is not defined"
     ]
    }
   ],
   "source": []
  },
  {
   "cell_type": "code",
   "execution_count": null,
   "id": "1bae4d21-493a-4969-bdaf-906a6f600779",
   "metadata": {},
   "outputs": [],
   "source": []
  }
 ],
 "metadata": {
  "kernelspec": {
   "display_name": "Python 3 (ipykernel)",
   "language": "python",
   "name": "python3"
  },
  "language_info": {
   "codemirror_mode": {
    "name": "ipython",
    "version": 3
   },
   "file_extension": ".py",
   "mimetype": "text/x-python",
   "name": "python",
   "nbconvert_exporter": "python",
   "pygments_lexer": "ipython3",
   "version": "3.10.9"
  }
 },
 "nbformat": 4,
 "nbformat_minor": 5
}
