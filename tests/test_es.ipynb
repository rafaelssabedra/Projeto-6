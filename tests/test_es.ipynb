{
 "cells": [
  {
   "cell_type": "markdown",
   "id": "215cc143-72df-40aa-908e-51e16757b57a",
   "metadata": {},
   "source": [
    "# Módulo es\n"
   ]
  },
  {
   "cell_type": "markdown",
   "id": "b03b439e-6479-4b6a-a1c9-53be937dad2e",
   "metadata": {},
   "source": [
    "## Função leitor_web(endereco_web: str) -> objeto\n",
    "\n"
   ]
  },
  {
   "cell_type": "code",
   "execution_count": 1,
   "id": "681f34f4-c343-4690-8fa6-e4fe6e3c794c",
   "metadata": {},
   "outputs": [],
   "source": [
    "# Função leitor_web\n",
    "\n",
    "def leitor_web(endereco_web: str) -> object:\n",
    "    pass\n"
   ]
  },
  {
   "cell_type": "code",
   "execution_count": 2,
   "id": "7685aca7-0103-4d87-b434-fc733c63f760",
   "metadata": {},
   "outputs": [
    {
     "data": {
      "text/plain": [
       "\"\\nfrom urllib.request import urlopen\\nhtml = urlopen('http://pythonscraping.com/pages/page1.html')\\nprint(html.read())\\n\""
      ]
     },
     "execution_count": 2,
     "metadata": {},
     "output_type": "execute_result"
    }
   ],
   "source": [
    "\"\"\"\n",
    "from urllib.request import urlopen\n",
    "html = urlopen('http://pythonscraping.com/pages/page1.html')\n",
    "print(html.read())\n",
    "\"\"\""
   ]
  },
  {
   "cell_type": "code",
   "execution_count": 3,
   "id": "00886569-2d50-4617-950a-130305fdebb8",
   "metadata": {},
   "outputs": [],
   "source": [
    "# type(html)"
   ]
  },
  {
   "cell_type": "code",
   "execution_count": 4,
   "id": "8b2781f8-4405-40e1-ad53-0d8944607bcd",
   "metadata": {},
   "outputs": [
    {
     "name": "stdout",
     "output_type": "stream",
     "text": [
      "<html>\n",
      "<head>\n",
      "<title>A Useful Page</title>\n",
      "</head>\n",
      "<body>\n",
      "<h1>An Interesting Title</h1>\n",
      "<div>\n",
      "Lorem ipsum dolor sit amet, consectetur adipisicing elit, sed do eiusmod tempor incididunt ut labore et dolore magna aliqua. Ut enim ad minim veniam, quis nostrud exercitation ullamco laboris nisi ut aliquip ex ea commodo consequat. Duis aute irure dolor in reprehenderit in voluptate velit esse cillum dolore eu fugiat nulla pariatur. Excepteur sint occaecat cupidatat non proident, sunt in culpa qui officia deserunt mollit anim id est laborum.\n",
      "</div>\n",
      "</body>\n",
      "</html>\n",
      "\n",
      "<class 'str'>\n"
     ]
    }
   ],
   "source": [
    "import requests\n",
    "html = requests.get('http://pythonscraping.com/pages/page1.html')\n",
    "print(html.text)\n",
    "print(type(html.text))"
   ]
  },
  {
   "cell_type": "code",
   "execution_count": 5,
   "id": "551649d9-6070-4d8e-a3a0-91cd1ecec814",
   "metadata": {},
   "outputs": [
    {
     "data": {
      "text/plain": [
       "'\\nwith open(\"pagina1.html\", \\'wb\\') as pagina1:\\n    for chunk in html.iter_content(chunk_size=128):\\n        pagina1.write(chunk)\\n'"
      ]
     },
     "execution_count": 5,
     "metadata": {},
     "output_type": "execute_result"
    }
   ],
   "source": [
    "\"\"\"\n",
    "with open(\"pagina1.html\", 'wb') as pagina1:\n",
    "    for chunk in html.iter_content(chunk_size=128):\n",
    "        pagina1.write(chunk)\n",
    "\"\"\""
   ]
  },
  {
   "cell_type": "code",
   "execution_count": 6,
   "id": "242a3704-082d-4c4f-96bb-1a34aabc23f2",
   "metadata": {},
   "outputs": [
    {
     "name": "stdout",
     "output_type": "stream",
     "text": [
      "<html>\n",
      "<head>\n",
      "<title>A Useful Page</title>\n",
      "</head>\n",
      "<body>\n",
      "<h1>An Interesting Title</h1>\n",
      "<div>\n",
      "Lorem ipsum dolor sit amet, consectetur adipisicing elit, sed do eiusmod tempor incididunt ut labore et dolore magna aliqua. Ut enim ad minim veniam, quis nostrud exercitation ullamco laboris nisi ut aliquip ex ea commodo consequat. Duis aute irure dolor in reprehenderit in voluptate velit esse cillum dolore eu fugiat nulla pariatur. Excepteur sint occaecat cupidatat non proident, sunt in culpa qui officia deserunt mollit anim id est laborum.\n",
      "</div>\n",
      "</body>\n",
      "</html>\n",
      "\n",
      "<html>\n",
      "<head>\n",
      "<title>A Useful Page</title>\n",
      "</head>\n",
      "<body>\n",
      "<h1>An Interesting Title</h1>\n",
      "<div>\n",
      "Lorem ipsum dolor sit amet, consectetur adipisicing elit, sed do eiusmod tempor incididunt ut labore et dolore magna aliqua. Ut enim ad minim veniam, quis nostrud exercitation ullamco laboris nisi ut aliquip ex ea commodo consequat. Duis aute irure dolor in reprehenderit in voluptate velit esse cillum dolore eu fugiat nulla pariatur. Excepteur sint occaecat cupidatat non proident, sunt in culpa qui officia deserunt mollit anim id est laborum.\n",
      "</div>\n",
      "</body>\n",
      "</html>\n",
      "\n"
     ]
    }
   ],
   "source": [
    "# Função leitor_web\n",
    "import requests\n",
    "\n",
    "def leitor_web(endereco_web: str) -> str:\n",
    "    html = requests.get(endereco_web)\n",
    "    print(html.text)\n",
    "    return html.text\n",
    "\n",
    "pagina1 = leitor_web('http://pythonscraping.com/pages/page1.html')\n",
    "print(pagina1)\n"
   ]
  },
  {
   "cell_type": "code",
   "execution_count": 11,
   "id": "13229f9f-fe08-4668-a7da-1bd3799cb1a2",
   "metadata": {},
   "outputs": [],
   "source": [
    "# Impressora\n",
    "\n",
    "def impressora(texto: str, nome_pagina: str) -> None:\n",
    "    with open(nome_pagina, 'w') as html:\n",
    "        html.write(texto)\n",
    "\n"
   ]
  },
  {
   "cell_type": "code",
   "execution_count": 13,
   "id": "69934606-37ac-402d-b6bc-5221f7fabe0a",
   "metadata": {},
   "outputs": [],
   "source": [
    "impressora(pagina1, \"pagina1.html\")"
   ]
  },
  {
   "cell_type": "code",
   "execution_count": 14,
   "id": "32753919-9bf8-4b44-ae3b-4b65829ba802",
   "metadata": {},
   "outputs": [],
   "source": [
    "from bs4 import BeautifulSoup\n",
    "soup = BeautifulSoup(pagina1, 'html.parser')"
   ]
  },
  {
   "cell_type": "code",
   "execution_count": 15,
   "id": "90d790d5-7f28-461d-bce1-f44d63563e86",
   "metadata": {},
   "outputs": [
    {
     "name": "stdout",
     "output_type": "stream",
     "text": [
      "<html>\n",
      " <head>\n",
      "  <title>\n",
      "   A Useful Page\n",
      "  </title>\n",
      " </head>\n",
      " <body>\n",
      "  <h1>\n",
      "   An Interesting Title\n",
      "  </h1>\n",
      "  <div>\n",
      "   Lorem ipsum dolor sit amet, consectetur adipisicing elit, sed do eiusmod tempor incididunt ut labore et dolore magna aliqua. Ut enim ad minim veniam, quis nostrud exercitation ullamco laboris nisi ut aliquip ex ea commodo consequat. Duis aute irure dolor in reprehenderit in voluptate velit esse cillum dolore eu fugiat nulla pariatur. Excepteur sint occaecat cupidatat non proident, sunt in culpa qui officia deserunt mollit anim id est laborum.\n",
      "  </div>\n",
      " </body>\n",
      "</html>\n",
      "\n"
     ]
    }
   ],
   "source": [
    "print(soup.prettify())"
   ]
  },
  {
   "cell_type": "code",
   "execution_count": 17,
   "id": "bda6379f-15f0-43e8-9b5c-a648f75c90bd",
   "metadata": {},
   "outputs": [
    {
     "name": "stdout",
     "output_type": "stream",
     "text": [
      "<title>A Useful Page</title>\n",
      "None\n",
      "<div>\n",
      "Lorem ipsum dolor sit amet, consectetur adipisicing elit, sed do eiusmod tempor incididunt ut labore et dolore magna aliqua. Ut enim ad minim veniam, quis nostrud exercitation ullamco laboris nisi ut aliquip ex ea commodo consequat. Duis aute irure dolor in reprehenderit in voluptate velit esse cillum dolore eu fugiat nulla pariatur. Excepteur sint occaecat cupidatat non proident, sunt in culpa qui officia deserunt mollit anim id est laborum.\n",
      "</div>\n"
     ]
    }
   ],
   "source": [
    "print(soup.title)\n",
    "print(soup.p)\n",
    "print(soup.div)"
   ]
  },
  {
   "cell_type": "code",
   "execution_count": null,
   "id": "e6b589eb-14c3-4f41-8f21-62a57f607e29",
   "metadata": {},
   "outputs": [],
   "source": []
  }
 ],
 "metadata": {
  "kernelspec": {
   "display_name": "Python 3 (ipykernel)",
   "language": "python",
   "name": "python3"
  },
  "language_info": {
   "codemirror_mode": {
    "name": "ipython",
    "version": 3
   },
   "file_extension": ".py",
   "mimetype": "text/x-python",
   "name": "python",
   "nbconvert_exporter": "python",
   "pygments_lexer": "ipython3",
   "version": "3.10.9"
  }
 },
 "nbformat": 4,
 "nbformat_minor": 5
}
